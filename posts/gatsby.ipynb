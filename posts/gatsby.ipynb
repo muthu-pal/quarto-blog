{
 "cells": [
  {
   "cell_type": "markdown",
   "id": "8c7f26f8",
   "metadata": {},
   "source": [
    "# Digital Humanities 140 Final Project\n",
    "## An Analysis of F. Scott Fitzgerald's *The Great Gatsby*\n",
    "#### Muthu Palaniappan, Winter 2023\n",
    "#### 3/18/22\n",
    "\n",
    "### Introduction\n",
    "For my final project, I will be analyzing the novel *The Great Gatsby* by F. Scott Fitzgerald. The [source](https://www.gutenberg.org/cache/epub/64317/pg64317.txt) for my project is The Gutenberg Project, which has provided the text of the novel. \n",
    "\n",
    "Fitzgerald's *The Great Gatsby* is my favorite novel, and I first read it in a high school English class. I was enamored by the themes of love and the American dream as well as the lively setting and time period. During my first read of the book, I analyzed the texts from a literary standpoint. Now, I hope to perform a literary analysis from a statistical point of view. Using the raw text of the novel, I ask \"What are the overal moods and themes of the novel?\" and \"How does the sentiment of the novel reflect the historical time period that it was set in?\""
   ]
  },
  {
   "cell_type": "markdown",
   "id": "bfc4693f",
   "metadata": {},
   "source": [
    "### Methods\n",
    "#### Data Processing and Analytical Process\n",
    "As stated earlier, my dataset is the raw text of *The Great Gatsby* provided by Project Gutenberg. The first step in my data processing was to capture and store the text of the novel. I used the Python `requests` library, which allows us to use a target url and extract the text from the webpage. Project Gutenberg stores the text in a textfile format, so this was straightforward. From there, I did some simple processing like lowering the case of all of the letters and removing the Project Gutenberg text additions to the page. What remained was one long string with the text of *The Great Gatsby*. Using this string, I created a Python list where each element is a word from the string. \n",
    "\n",
    "Stopwords are a list of words that are commonly filtered out before natural language processing since they are insignificant. Example stopwords are \"are\", \"is\", \"the\", and \"the\". The Python Natural Language Tool Kit provides a list of stopwords for a specified language. So, anytime I was processing the words from the Novel and testing their sentiment/frequencies, I filtered out stopwords.\n",
    "\n",
    "Fitzgerald divided his novel into 9 chapters, and the chapters are titled as roman numerals in the text. I decided to split up the string of words into 9 separate strings corresponding to each chapter so I could compare them. \n",
    "\n",
    "Using the list of all words in the novel and the 9 lists of words in each chapter, minus the stop words, I performed my data analysis. I used the Vader sentiment analyzer, the word frequencies, the positive/negative word lexicon, and the Porter Stemmer to draw various conclusions and make comparisons.  "
   ]
  },
  {
   "cell_type": "code",
   "execution_count": 1,
   "id": "723656fe",
   "metadata": {},
   "outputs": [
    {
     "name": "stderr",
     "output_type": "stream",
     "text": [
      "[nltk_data] Downloading package punkt to /home/jovyan/nltk_data...\n",
      "[nltk_data]   Package punkt is already up-to-date!\n",
      "[nltk_data] Downloading package stopwords to /home/jovyan/nltk_data...\n",
      "[nltk_data]   Package stopwords is already up-to-date!\n",
      "[nltk_data] Downloading package vader_lexicon to\n",
      "[nltk_data]     /home/jovyan/nltk_data...\n",
      "[nltk_data]   Package vader_lexicon is already up-to-date!\n",
      "[nltk_data] Downloading package opinion_lexicon to\n",
      "[nltk_data]     /home/jovyan/nltk_data...\n",
      "[nltk_data]   Package opinion_lexicon is already up-to-date!\n"
     ]
    },
    {
     "data": {
      "text/plain": [
       "True"
      ]
     },
     "execution_count": 1,
     "metadata": {},
     "output_type": "execute_result"
    }
   ],
   "source": [
    "import requests\n",
    "import matplotlib.pyplot as plt\n",
    "import nltk\n",
    "import numpy as np\n",
    "import pandas as pd\n",
    "\n",
    "from nltk.tokenize import word_tokenize\n",
    "from nltk.sentiment import vader\n",
    "from nltk.corpus import stopwords\n",
    "from nltk.corpus import opinion_lexicon\n",
    "from nltk.stem.porter import PorterStemmer\n",
    "\n",
    "nltk.download('punkt')\n",
    "nltk.download('stopwords')\n",
    "nltk.download('vader_lexicon')\n",
    "nltk.download('opinion_lexicon')"
   ]
  },
  {
   "cell_type": "code",
   "execution_count": 2,
   "id": "33dd68d7",
   "metadata": {},
   "outputs": [],
   "source": [
    "target_url = \"https://www.gutenberg.org/cache/epub/64317/pg64317.txt\"\n",
    "response = requests.get(target_url)\n",
    "gatsby_string = response.text\n",
    "gatsby_string = gatsby_string.split('*** START OF THE PROJECT GUTENBERG EBOOK THE GREAT GATSBY ***')[1]\n",
    "gatsby_string = gatsby_string.split('*** END OF THE PROJECT GUTENBERG EBOOK THE GREAT GATSBY ***')[0]\n",
    "gatsby_string = gatsby_string.lower()\n"
   ]
  },
  {
   "cell_type": "code",
   "execution_count": 3,
   "id": "fe76b83c",
   "metadata": {},
   "outputs": [],
   "source": [
    "stopwords_list = stopwords.words('english')\n",
    "sia = vader.SentimentIntensityAnalyzer()"
   ]
  },
  {
   "cell_type": "code",
   "execution_count": 4,
   "id": "59bd51f8",
   "metadata": {},
   "outputs": [],
   "source": [
    "gatsby_word_list = [w for w in word_tokenize(gatsby_string.lower())]"
   ]
  },
  {
   "cell_type": "code",
   "execution_count": 5,
   "id": "515c5da5",
   "metadata": {},
   "outputs": [
    {
     "name": "stdout",
     "output_type": "stream",
     "text": [
      "['great', 'lover', 'lover', 'like', 'advantages', 'great', 'curious', 'matter', 'hope', 'tolerance']\n",
      "['cry', 'vulnerable', 'criticizing', 'victim', 'bores', 'accused', 'hostile', 'missing', 'forget', 'snobbishly']\n"
     ]
    }
   ],
   "source": [
    "reviewPolarity = 0.0\n",
    "pos_list = []\n",
    "neg_list = []\n",
    "for word in gatsby_word_list:\n",
    "  val = sia.polarity_scores(word)['compound']\n",
    "  if val > 0:\n",
    "    pos_list.append(word)\n",
    "  elif val < 0:\n",
    "    neg_list.append(word)\n",
    "print(pos_list[0:10])\n",
    "print(neg_list[0:10])"
   ]
  },
  {
   "cell_type": "code",
   "execution_count": 6,
   "id": "95b7d517",
   "metadata": {},
   "outputs": [
    {
     "name": "stdout",
     "output_type": "stream",
     "text": [
      "[('like', 119), ('hand', 63), ('want', 59), ('well', 53), ('good', 30), ('great', 26), ('love', 24), ('god', 20), ('matter', 19), ('loved', 19), ('friend', 18), ('party', 18), ('won', 17), ('better', 17), ('bright', 16)]\n",
      "[('no', 97), ('miss', 38), ('cried', 31), ('alone', 25), ('demanded', 24), ('broke', 23), ('stopped', 19), ('hard', 17), ('shook', 17), ('crazy', 14), ('stop', 13), ('bad', 11), ('leave', 11), ('lost', 11), ('killed', 11)]\n"
     ]
    }
   ],
   "source": [
    "top15_pos = nltk.FreqDist(pos_list).most_common(15)\n",
    "top15_neg = nltk.FreqDist(neg_list).most_common(15)\n",
    "\n",
    "print(top15_pos)\n",
    "print(top15_neg)"
   ]
  },
  {
   "cell_type": "code",
   "execution_count": 7,
   "id": "c7a46a24",
   "metadata": {},
   "outputs": [
    {
     "name": "stdout",
     "output_type": "stream",
     "text": [
      "[('like', 119), ('hand', 63), ('want', 59), ('well', 53), ('good', 30), ('great', 26), ('love', 24), ('god', 20), ('matter', 19), ('loved', 19), ('friend', 18), ('party', 18), ('better', 17), ('bright', 16), ('yes', 16)]\n",
      "[('miss', 38), ('cried', 31), ('alone', 25), ('demanded', 24), ('broke', 23), ('stopped', 19), ('hard', 17), ('shook', 17), ('crazy', 14), ('stop', 13), ('bad', 11), ('leave', 11), ('lost', 11), ('killed', 11), ('dead', 11)]\n"
     ]
    }
   ],
   "source": [
    "no_stopwords = [w for w in word_tokenize(gatsby_string.lower()) if w not in stopwords_list]\n",
    "\n",
    "reviewPolarity = 0.0\n",
    "pos_list = []\n",
    "neg_list = []\n",
    "for word in no_stopwords:\n",
    "  val = sia.polarity_scores(word)['compound']\n",
    "  if val > 0:\n",
    "    pos_list.append(word)\n",
    "  elif val < 0:\n",
    "    neg_list.append(word)\n",
    "top15_pos = nltk.FreqDist(pos_list).most_common(15)\n",
    "top15_neg = nltk.FreqDist(neg_list).most_common(15)\n",
    "\n",
    "print(top15_pos)\n",
    "print(top15_neg)"
   ]
  },
  {
   "cell_type": "markdown",
   "id": "3477696e",
   "metadata": {},
   "source": [
    "### Results for Top Positive/Negative Words using Raw Polarity Score\n",
    "In the above section I determined what the 15 most frequent positively conotated and negatively conotated words in the novel. First, I separated the words in the novel by polarity scores, negative indicating a negative sentiment and positive indicating a positive sentiment. From there, I used the frequency distributor from NLTK to return the top 15 in each category. I did this twice, once with stop words and once with stop words removed. The results from the two iterations were nearly the same, with the only stop word in the first iteration of positive words being \"won\", and the only stop word in the negative list being \"no\". The top 15 positive and negative words are outputted above. "
   ]
  },
  {
   "cell_type": "code",
   "execution_count": 8,
   "id": "5f1cd0f9",
   "metadata": {},
   "outputs": [
    {
     "name": "stdout",
     "output_type": "stream",
     "text": [
      "[('like', 128), ('hand', 103), ('want', 97), ('love', 56), ('well', 53), ('good', 30), ('great', 26), ('laugh', 25), ('matter', 24), ('play', 24), ('friend', 24), ('reach', 23), ('smile', 22), ('care', 21), ('god', 20)]\n",
      "[('miss', 42), ('stop', 35), ('demand', 28), ('broke', 23), ('hard', 17), ('shook', 17), ('drop', 14), ('kill', 12), ('bad', 11), ('lost', 11), ('dead', 11), ('forget', 10), ('low', 10), ('violent', 10), ('interrupt', 10)]\n"
     ]
    }
   ],
   "source": [
    "stemmer = PorterStemmer()\n",
    "unstemmed = [w for w in word_tokenize(gatsby_string.lower()) if w not in stopwords_list]\n",
    "stemmed = []\n",
    "for word in unstemmed:\n",
    "  stemmed.append(stemmer.stem(word))\n",
    "\n",
    "reviewPolarity = 0.0\n",
    "pos_list = []\n",
    "neg_list = []\n",
    "for word in stemmed:\n",
    "  val = sia.polarity_scores(word)['compound']\n",
    "  if val > 0:\n",
    "    pos_list.append(word)\n",
    "  elif val < 0:\n",
    "    neg_list.append(word)\n",
    "top15_pos = nltk.FreqDist(pos_list).most_common(15)\n",
    "top15_neg = nltk.FreqDist(neg_list).most_common(15)\n",
    "\n",
    "print(top15_pos)\n",
    "print(top15_neg)"
   ]
  },
  {
   "cell_type": "markdown",
   "id": "e5ba44af",
   "metadata": {},
   "source": [
    "### Results for Top Positive/Negative Words using Raw Polarity Score and Porter Stemmer\n",
    "In this section above, I did a nearly identical analysis as the prior section. The only difference this time around was that I used stemmed words instead of the raw word. From their documentation, the Porter Stemmer \"removed the commoner morphological and inflexional endings from words in English.\" For example, the words \"lover\", \"lovely\", and \"loved\" would all boil down to the stem \"love\". After this analysis, I noticed slightly different results than before. For instance in the positive word list, \"love\" is more frequent after being stemmed, and \"smile\" and \"care\" made it onto the list after being stemmed. In the negative word list, \"stop\" moved up in frequency after being stemmed. \n",
    "\n",
    "The results were not wildly different after being stemmed, but it was interesting to notice the slight change. "
   ]
  },
  {
   "cell_type": "code",
   "execution_count": 9,
   "id": "71e609a0",
   "metadata": {},
   "outputs": [],
   "source": [
    "first_ch_string = 'In my younger and more vulnerable years'\n",
    "second_ch_string ='About halfway between West Egg and New York the motor road hastily'\n",
    "third_ch_string ='There was music from my neighbour’s house through the summer nights.'\n",
    "fourth_ch_string = 'On Sunday morning while church bells'\n",
    "fifth_ch_string = 'When I came home to West Egg that night'\n",
    "sixth_ch_string = 'About this time an ambitious young reporter from New York'\n",
    "seventh_ch_string ='It was when curiosity about Gatsby was at its highest'\n",
    "eighth_ch_string = 'I couldn’t sleep all night; a foghorn'\n",
    "ninth_ch_string = 'After two years I remember the rest of that day'\n",
    "\n",
    "first_ch_index = gatsby_string.find(first_ch_string.lower())\n",
    "second_ch_index = gatsby_string.find(second_ch_string.lower())\n",
    "third_ch_index = gatsby_string.find(third_ch_string.lower())\n",
    "fourth_ch_index = gatsby_string.find(fourth_ch_string.lower())\n",
    "fifth_ch_index = gatsby_string.find(fifth_ch_string.lower())\n",
    "sixth_ch_index = gatsby_string.find(sixth_ch_string.lower())\n",
    "seventh_ch_index = gatsby_string.find(seventh_ch_string.lower())\n",
    "eighth_ch_index = gatsby_string.find(eighth_ch_string.lower())\n",
    "ninth_ch_index = gatsby_string.find(ninth_ch_string.lower())\n"
   ]
  },
  {
   "cell_type": "code",
   "execution_count": 10,
   "id": "6706491e",
   "metadata": {},
   "outputs": [
    {
     "data": {
      "text/plain": [
       "<BarContainer object of 9 artists>"
      ]
     },
     "execution_count": 10,
     "metadata": {},
     "output_type": "execute_result"
    },
    {
     "data": {
      "image/png": "[encoded data removed]",
      "text/plain": [
       "<Figure size 640x480 with 1 Axes>"
      ]
     },
     "metadata": {},
     "output_type": "display_data"
    }
   ],
   "source": [
    "score_arr = []\n",
    "\n",
    "gatsby_sections = []\n",
    "gatsby_sections.append(gatsby_string[first_ch_index:second_ch_index])\n",
    "gatsby_sections.append(gatsby_string[second_ch_index:third_ch_index])\n",
    "gatsby_sections.append(gatsby_string[third_ch_index:fourth_ch_index])\n",
    "gatsby_sections.append(gatsby_string[fourth_ch_index:fifth_ch_index])\n",
    "gatsby_sections.append(gatsby_string[fifth_ch_index:sixth_ch_index])\n",
    "gatsby_sections.append(gatsby_string[sixth_ch_index:seventh_ch_index])\n",
    "gatsby_sections.append(gatsby_string[seventh_ch_index:eighth_ch_index])\n",
    "gatsby_sections.append(gatsby_string[eighth_ch_index:ninth_ch_index])\n",
    "gatsby_sections.append(gatsby_string[ninth_ch_index:])\n",
    "\n",
    "pos_score_per_section = [0,0,0,0,0,0,0,0,0]\n",
    "neg_score_per_section = [0,0,0,0,0,0,0,0,0]\n",
    "section_scatters = []\n",
    "for section in range(len(gatsby_sections)):\n",
    "  section_list = [w for w in word_tokenize(gatsby_sections[section].lower()) if w not in stopwords_list]\n",
    "  section_points = []\n",
    "  score = 0\n",
    "  pos_val = 0\n",
    "  neg_val = 0\n",
    "  for word in section_list:\n",
    "    val = sia.polarity_scores(word)['compound']\n",
    "    score += val\n",
    "    if (val >= 0):\n",
    "      pos_val += val\n",
    "    else:\n",
    "      neg_val += val\n",
    "    if val != 0:\n",
    "      section_points.append(val)\n",
    "  pos_score_per_section[section] = pos_val\n",
    "  neg_score_per_section[section] = neg_val*-1\n",
    "  section_scatters.append(section_points)\n",
    "  score_arr.append(score)\n",
    "\n",
    "x_coordinate = [ 1+i for i in range(len(score_arr)) ]\n",
    "plt.title('Sentiment of the Sections of Gatsby')\n",
    "plt.bar(x_coordinate, score_arr)\n"
   ]
  },
  {
   "cell_type": "code",
   "execution_count": 11,
   "id": "9bbb7aac",
   "metadata": {},
   "outputs": [
    {
     "data": {
      "image/png": "[encoded data removed]",
      "text/plain": [
       "<Figure size 640x480 with 1 Axes>"
      ]
     },
     "metadata": {},
     "output_type": "display_data"
    }
   ],
   "source": [
    "pos_series = pd.Series(pos_score_per_section, index=[1,2,3,4,5,6,7,8,9])\n",
    "neg_series = pd.Series(neg_score_per_section, index=[1,2,3,4,5,6,7,8,9])\n",
    "df = pd.DataFrame({\"positive\":pos_score_per_section,\"negative\":neg_score_per_section})\n",
    "ax = df.plot.bar(color=[\"Green\",\"Red\"], rot=0, title=\"Balance of Positve and Negative Words in Each Section\")\n",
    "ax.set_xlabel(\"chapter\")\n",
    "ax.set_ylabel(\"score\")\n",
    "ax.xaxis.set_major_formatter(plt.FixedFormatter([1,2,3,4,5,6,7,8,9]))\n",
    "plt.show()\n"
   ]
  },
  {
   "cell_type": "markdown",
   "id": "57fbd12e",
   "metadata": {},
   "source": [
    "### Results for Sentiment in each Section based on Raw Score\n",
    "Above, I calculated the positivity score and negativity score of each chapter of the novel. The first graph with single bars uses a single score for each section. Positive and negative sentiment scores for each word in the section are added to a sum and plotted. In the second graph with double bars, I kept separate counts for the positive score and negative score for each chapter. Both are important representations, but I think that the double bar graph allows us to visualize the balance of positive to negative words in each chapter."
   ]
  },
  {
   "cell_type": "code",
   "execution_count": 12,
   "id": "8423c1bc",
   "metadata": {},
   "outputs": [],
   "source": [
    "positive_words = set(opinion_lexicon.positive())\n",
    "negative_words = set(opinion_lexicon.negative())"
   ]
  },
  {
   "cell_type": "code",
   "execution_count": 13,
   "id": "c2621878",
   "metadata": {},
   "outputs": [
    {
     "data": {
      "text/plain": [
       "<BarContainer object of 9 artists>"
      ]
     },
     "execution_count": 13,
     "metadata": {},
     "output_type": "execute_result"
    },
    {
     "data": {
      "image/png": "[encoded data removed]",
      "text/plain": [
       "<Figure size 640x480 with 1 Axes>"
      ]
     },
     "metadata": {},
     "output_type": "display_data"
    }
   ],
   "source": [
    "score_arr = []\n",
    "pos_score_per_section = [0,0,0,0,0,0,0,0,0]\n",
    "neg_score_per_section = [0,0,0,0,0,0,0,0,0]\n",
    "for section in range(len(gatsby_sections)):\n",
    "  section_list = [w for w in word_tokenize(gatsby_sections[section].lower()) if w not in stopwords_list]\n",
    "  score = 0\n",
    "  pos_val = 0\n",
    "  neg_val = 0\n",
    "  for word in section_list:\n",
    "    if word in positive_words:\n",
    "      score += 1\n",
    "      pos_val += 1\n",
    "    elif word in negative_words:\n",
    "      score -= 1\n",
    "      neg_val += 1\n",
    "  pos_score_per_section[section] = pos_val\n",
    "  neg_score_per_section[section] = neg_val\n",
    "  score_arr.append(score)\n",
    "\n",
    "x_coordinate = [ 1+i for i in range(len(score_arr)) ]\n",
    "plt.title('Alternate Plot of Section Sentiment') \n",
    "plt.bar(x_coordinate, score_arr)"
   ]
  },
  {
   "cell_type": "code",
   "execution_count": 14,
   "id": "0a4ca7d6",
   "metadata": {},
   "outputs": [
    {
     "data": {
      "image/png": "[encoded data removed]",
      "text/plain": [
       "<Figure size 640x480 with 1 Axes>"
      ]
     },
     "metadata": {},
     "output_type": "display_data"
    }
   ],
   "source": [
    "pos_series = pd.Series(pos_score_per_section, index=[1,2,3,4,5,6,7,8,9])\n",
    "neg_series = pd.Series(neg_score_per_section, index=[1,2,3,4,5,6,7,8,9])\n",
    "df = pd.DataFrame({\"positive\":pos_score_per_section,\"negative\":neg_score_per_section})\n",
    "ax = df.plot.bar(color=[\"Green\",\"Red\"], rot=0, title=\"Alternate Balance of Positve and Negative Words in Each Section\")\n",
    "ax.set_xlabel(\"chapter\")\n",
    "ax.set_ylabel(\"score\")\n",
    "ax.xaxis.set_major_formatter(plt.FixedFormatter([1,2,3,4,5,6,7,8,9]))\n",
    "plt.show()"
   ]
  },
  {
   "cell_type": "markdown",
   "id": "b61df748",
   "metadata": {},
   "source": [
    "### Results for Sentiment in each Section based on Normalized Score\n",
    "Similar to the prior section, I plotted the sentiment scores for each section, but I calculated the scores differently. This time, instead of summing up the raw sentiment score, which is a decimal, I added one for a positive score (anything above zero) and subtracted 1 for a negative score (anything below zero). This normalizes the sentiment for each word, and allows us to view the balance of positive and negative words in regards to their frequencies as opposed to how positive or negative they are. The results are fairly different than the prior section, which is an interesting juxtaposition."
   ]
  },
  {
   "cell_type": "code",
   "execution_count": null,
   "id": "eaa631ae",
   "metadata": {
    "scrolled": false
   },
   "outputs": [],
   "source": []
  },
  {
   "cell_type": "code",
   "execution_count": 15,
   "id": "ec522970",
   "metadata": {},
   "outputs": [],
   "source": [
    "x = [w for w in word_tokenize(gatsby_string.lower()) if w not in stopwords_list and w.isalnum()]\n",
    "df = pd.DataFrame({'words': nltk.FreqDist(x).keys(),\n",
    "                   'frequencies': nltk.FreqDist(x).values()})    "
   ]
  },
  {
   "cell_type": "code",
   "execution_count": 16,
   "id": "7aee7013",
   "metadata": {},
   "outputs": [
    {
     "data": {
      "text/html": [
       "<div>\n",
       "<style scoped>\n",
       "    .dataframe tbody tr th:only-of-type {\n",
       "        vertical-align: middle;\n",
       "    }\n",
       "\n",
       "    .dataframe tbody tr th {\n",
       "        vertical-align: top;\n",
       "    }\n",
       "\n",
       "    .dataframe thead th {\n",
       "        text-align: right;\n",
       "    }\n",
       "</style>\n",
       "<table border=\"1\" class=\"dataframe\">\n",
       "  <thead>\n",
       "    <tr style=\"text-align: right;\">\n",
       "      <th></th>\n",
       "      <th>words</th>\n",
       "      <th>frequencies</th>\n",
       "    </tr>\n",
       "  </thead>\n",
       "  <tbody>\n",
       "    <tr>\n",
       "      <th>0</th>\n",
       "      <td>great</td>\n",
       "      <td>26</td>\n",
       "    </tr>\n",
       "    <tr>\n",
       "      <th>1</th>\n",
       "      <td>gatsby</td>\n",
       "      <td>251</td>\n",
       "    </tr>\n",
       "    <tr>\n",
       "      <th>2</th>\n",
       "      <td>scott</td>\n",
       "      <td>1</td>\n",
       "    </tr>\n",
       "    <tr>\n",
       "      <th>3</th>\n",
       "      <td>fitzgerald</td>\n",
       "      <td>1</td>\n",
       "    </tr>\n",
       "    <tr>\n",
       "      <th>4</th>\n",
       "      <td>table</td>\n",
       "      <td>31</td>\n",
       "    </tr>\n",
       "  </tbody>\n",
       "</table>\n",
       "</div>"
      ],
      "text/plain": [
       "        words  frequencies\n",
       "0       great           26\n",
       "1      gatsby          251\n",
       "2       scott            1\n",
       "3  fitzgerald            1\n",
       "4       table           31"
      ]
     },
     "execution_count": 16,
     "metadata": {},
     "output_type": "execute_result"
    }
   ],
   "source": [
    "df.head()"
   ]
  },
  {
   "cell_type": "code",
   "execution_count": 17,
   "id": "ed1b222b",
   "metadata": {},
   "outputs": [
    {
     "name": "stdout",
     "output_type": "stream",
     "text": [
      "       frequencies\n",
      "count  5483.000000\n",
      "mean      4.053073\n",
      "std      10.400495\n",
      "min       1.000000\n",
      "25%       1.000000\n",
      "50%       1.000000\n",
      "75%       3.000000\n",
      "max     251.000000\n"
     ]
    }
   ],
   "source": [
    "print(df.describe())"
   ]
  },
  {
   "cell_type": "code",
   "execution_count": 18,
   "id": "d304da68",
   "metadata": {},
   "outputs": [
    {
     "name": "stdout",
     "output_type": "stream",
     "text": [
      "      words  frequencies\n",
      "1    gatsby          251\n",
      "298    said          233\n",
      "547     tom          188\n",
      "549   daisy          183\n",
      "184     one          145\n",
      "40     like          119\n",
      "79     came          108\n",
      "147    back          107\n",
      "118  little          103\n",
      "164     man           98\n"
     ]
    }
   ],
   "source": [
    "top_10_words = df.nlargest(10, 'frequencies')\n",
    "print(top_10_words)"
   ]
  },
  {
   "cell_type": "code",
   "execution_count": 19,
   "id": "fa14f986",
   "metadata": {},
   "outputs": [
    {
     "data": {
      "text/html": [
       "<div>\n",
       "<style scoped>\n",
       "    .dataframe tbody tr th:only-of-type {\n",
       "        vertical-align: middle;\n",
       "    }\n",
       "\n",
       "    .dataframe tbody tr th {\n",
       "        vertical-align: top;\n",
       "    }\n",
       "\n",
       "    .dataframe thead th {\n",
       "        text-align: right;\n",
       "    }\n",
       "</style>\n",
       "<table border=\"1\" class=\"dataframe\">\n",
       "  <thead>\n",
       "    <tr style=\"text-align: right;\">\n",
       "      <th></th>\n",
       "      <th>words</th>\n",
       "      <th>frequencies</th>\n",
       "    </tr>\n",
       "  </thead>\n",
       "  <tbody>\n",
       "    <tr>\n",
       "      <th>0</th>\n",
       "      <td>great</td>\n",
       "      <td>26</td>\n",
       "    </tr>\n",
       "    <tr>\n",
       "      <th>40</th>\n",
       "      <td>like</td>\n",
       "      <td>119</td>\n",
       "    </tr>\n",
       "    <tr>\n",
       "      <th>114</th>\n",
       "      <td>matter</td>\n",
       "      <td>19</td>\n",
       "    </tr>\n",
       "    <tr>\n",
       "      <th>713</th>\n",
       "      <td>hand</td>\n",
       "      <td>63</td>\n",
       "    </tr>\n",
       "    <tr>\n",
       "      <th>816</th>\n",
       "      <td>laugh</td>\n",
       "      <td>9</td>\n",
       "    </tr>\n",
       "  </tbody>\n",
       "</table>\n",
       "</div>"
      ],
      "text/plain": [
       "      words  frequencies\n",
       "0     great           26\n",
       "40     like          119\n",
       "114  matter           19\n",
       "713    hand           63\n",
       "816   laugh            9"
      ]
     },
     "execution_count": 19,
     "metadata": {},
     "output_type": "execute_result"
    }
   ],
   "source": [
    "top10_pos_words = []\n",
    "top10_neg_words = []\n",
    "for i in range(10):\n",
    "    top10_pos_words.append(top15_pos[i][0])\n",
    "    top10_neg_words.append(top15_neg[i][0])\n",
    "    \n",
    "pos_df = df.loc[df['words'].isin(top10_pos_words)]\n",
    "pos_df.head()\n"
   ]
  },
  {
   "cell_type": "code",
   "execution_count": 20,
   "id": "aa23e95a",
   "metadata": {},
   "outputs": [
    {
     "data": {
      "text/html": [
       "<div>\n",
       "<style scoped>\n",
       "    .dataframe tbody tr th:only-of-type {\n",
       "        vertical-align: middle;\n",
       "    }\n",
       "\n",
       "    .dataframe tbody tr th {\n",
       "        vertical-align: top;\n",
       "    }\n",
       "\n",
       "    .dataframe thead th {\n",
       "        text-align: right;\n",
       "    }\n",
       "</style>\n",
       "<table border=\"1\" class=\"dataframe\">\n",
       "  <thead>\n",
       "    <tr style=\"text-align: right;\">\n",
       "      <th></th>\n",
       "      <th>words</th>\n",
       "      <th>frequencies</th>\n",
       "    </tr>\n",
       "  </thead>\n",
       "  <tbody>\n",
       "    <tr>\n",
       "      <th>140</th>\n",
       "      <td>hard</td>\n",
       "      <td>17</td>\n",
       "    </tr>\n",
       "    <tr>\n",
       "      <th>831</th>\n",
       "      <td>miss</td>\n",
       "      <td>38</td>\n",
       "    </tr>\n",
       "    <tr>\n",
       "      <th>939</th>\n",
       "      <td>drop</td>\n",
       "      <td>4</td>\n",
       "    </tr>\n",
       "    <tr>\n",
       "      <th>1055</th>\n",
       "      <td>broke</td>\n",
       "      <td>23</td>\n",
       "    </tr>\n",
       "    <tr>\n",
       "      <th>1121</th>\n",
       "      <td>bad</td>\n",
       "      <td>11</td>\n",
       "    </tr>\n",
       "  </tbody>\n",
       "</table>\n",
       "</div>"
      ],
      "text/plain": [
       "      words  frequencies\n",
       "140    hard           17\n",
       "831    miss           38\n",
       "939    drop            4\n",
       "1055  broke           23\n",
       "1121    bad           11"
      ]
     },
     "execution_count": 20,
     "metadata": {},
     "output_type": "execute_result"
    }
   ],
   "source": [
    "neg_df = df.loc[df['words'].isin(top10_neg_words)]\n",
    "neg_df.head()"
   ]
  },
  {
   "cell_type": "code",
   "execution_count": 21,
   "id": "992a6d15",
   "metadata": {},
   "outputs": [
    {
     "data": {
      "text/plain": [
       "<AxesSubplot: title={'center': 'Frequencies of Top 10 Positive Words'}, xlabel='words'>"
      ]
     },
     "execution_count": 21,
     "metadata": {},
     "output_type": "execute_result"
    },
    {
     "data": {
      "image/png": "[encoded data removed]",
      "text/plain": [
       "<Figure size 640x480 with 1 Axes>"
      ]
     },
     "metadata": {},
     "output_type": "display_data"
    }
   ],
   "source": [
    "pos_df.plot.bar(x='words', y='frequencies', rot=0, title='Frequencies of Top 10 Positive Words')"
   ]
  },
  {
   "cell_type": "code",
   "execution_count": 22,
   "id": "6fcec1a9",
   "metadata": {},
   "outputs": [
    {
     "data": {
      "text/plain": [
       "<AxesSubplot: title={'center': 'Frequencies of Top 10 Negative Words'}, xlabel='words'>"
      ]
     },
     "execution_count": 22,
     "metadata": {},
     "output_type": "execute_result"
    },
    {
     "data": {
      "image/png": "[encoded data removed]",
      "text/plain": [
       "<Figure size 640x480 with 1 Axes>"
      ]
     },
     "metadata": {},
     "output_type": "display_data"
    }
   ],
   "source": [
    "neg_df.plot.bar(x='words', y='frequencies', rot=0, title='Frequencies of Top 10 Negative Words')"
   ]
  },
  {
   "cell_type": "markdown",
   "id": "ce223436",
   "metadata": {},
   "source": [
    "### Results for Word Frequency Analysis\n",
    "In this section, I looked into the word frequencies in the novel. There are over 5000 unique words in the novel, with the average frequency being around 4 times. I looked into the frequencies of names of main characters in the novel. Gatsby is the name that appears most often, followed by Tom, Daisy, and Nick. Originally, I was planning on examining sentences that these names appeared in to analyze the overal sentiment of that sentence. I thought this could tell us about the reputation and theme of the character. I decided this might be difficult though, since a sentence mentioning a name may not be representative of reputation/theme. For instance, a lot of the name occurrences may be in phrases like \"Gatsby sad\" or other verb phrases, which wouldn't reveal anything insightful.\n",
    "\n",
    "I determined what the most frequent 10 words in the novel are: gatsby, said, tom, daisy, one, like, came, back, little, man. I also looked into the split of positive and negative words in the novel and found the top 10 frequent words in those lists. The most frequent positive words are: great, like, matter, hand, laugh, love, well, want, good, play. The most frequent negative words are: hard, miss, drop, broke, bad, shook, stop, demand, lost, kill."
   ]
  },
  {
   "cell_type": "markdown",
   "id": "b45dbea1",
   "metadata": {},
   "source": [
    "## Discussion\n",
    "Based on the word frequencies and sentiment visualizations, we can draw conclusions about the themes/mood of the novel and the overall sentiment arc of the story based on its chapters. This is also reflective of the setting of the novel: the Roaring 20s in New York City. If we look at the most frequent words in the novel, there are three names: Gatsby, Daisy, and Tom. The novel famously contains a love triangle between these three characters, and the data aligns. Other than those names, some notable frequent words were \"back\", \"man\", and \"one\". Although these words are definitely part of phrases that have significance, it is interesting that those single words appeared so much. *The Great Gatsby* is a story about Jay Gatsby, a man that came into money and had a haunting past. A common theme in the book is his longing for another character, Daisy. The word \"one\" frequently appearing could allude to the idea that Gatsby was always obsessed with the idea of Daisy being his \"one\" and him coming into so much money and ambition with the singular goal of catching just Daisy's eye. The word \"back\" could allude to the themes of the past, present, and future that Fitzgerald wrote about in his novel. The book famously ends with the quote \"So we beat on, boats against the current, borne back ceaselessly into the past.\" The words \"past\" and \"back\" may refer to each other. \n",
    "\n",
    "Another interesting conclusion comes from the breakdown of the 10 most frequent positive words and 10 most frequent negative words in the book. Amongst the positive words are \"great\", \"love\", and \"play\" which I think are three words that perfectly describe the life of the wealthy during the Roaring 20s in America. Especially in the novel, wealthy characters like Gatsby and Daisy host and attend \"great\" lavish parties, \"play\" music, sports, and games, and spend their time chasing \"love\". Amongst the negative words are \"broke\", \"kill\", and \"miss\". During the 20s, the wealth gap was massive. Many families lived paycheck to paycheck and in worse parts of town, alluding to the word \"broke\". In Gatsby, a character dies and another character is famously framed, hence the presence of \"kill\". Lastly, the word \"miss\" refers to the theme of longing and absence Gatsby often felt about Daisy. \n",
    "\n",
    "The last visualizations I would like to discuss are the sentiment charts separated by chapters in the book. Chapter 7 has the most number of positive and negative words, with the balance being skewed very negative when looking at the normalized scores. This is the climax of the book and where (spoiler alert!) Myrtle is killed, so it makese sense that the sentiment is heavily negative. Chapter 1 is the only chapter where the normalized positive word score is higher than the negative score. I conclude that this is true because we are introduced to Gatsby and his lavish parties in this chapter, and so far, we have a positive view of his life. It is also interesting because in Chapter 7, the group drives through a rough part of town with folks of lower social classes, so its sentiment is far more negative to the pretty houses and lavish parties in Chapter 1 --  a nicer portrayal of the 20s. \n",
    "\n",
    "Overall, this analysis aligned with my literary analysis from reading *The Great Gatsby*. It is interesting because when analyzing literary work, often one needs to read between the lines. However, when looking at the lines as raw data, we can draw similar conclusions. *The Great Gatsby* is a story about love, death, ambition, greatness, and the past/present/future, both between the lines and through the lines themselves. "
   ]
  }
 ],
 "metadata": {
  "kernelspec": {
   "display_name": "Python 3 (ipykernel)",
   "language": "python",
   "name": "python3"
  },
  "language_info": {
   "codemirror_mode": {
    "name": "ipython",
    "version": 3
   },
   "file_extension": ".py",
   "mimetype": "text/x-python",
   "name": "python",
   "nbconvert_exporter": "python",
   "pygments_lexer": "ipython3",
   "version": "3.10.8"
  }
 },
 "nbformat": 4,
 "nbformat_minor": 5
}
