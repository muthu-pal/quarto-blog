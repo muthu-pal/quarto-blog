{
 "cells": [
  {
   "cell_type": "markdown",
   "id": "8c7f26f8",
   "metadata": {},
   "source": [
    "# Digital Humanities 140 Final Project\n",
    "## An Analysis of F. Scott Fitzgerald's *The Great Gatsby*\n",
    "#### Muthu Palaniappan, Winter 2023\n",
    "\n",
    "This should include a description of your data, a link to the source(s) of your data, your motivation for looking at the data, and the question(s) that you are seeking to address.\n",
    "For my final project, I will be analyzing the novel *The Great Gatsby* by F. Scott Fitzgerald. The [source](https://www.gutenberg.org/cache/epub/64317/pg64317.txt) for my project is The Gutenberg Project, which has provided the text of the novel. \n",
    "\n",
    "Fitzgerald's *The Great Gatsby* is my favorite novel, and I first read it in a high school English class. I was enamored by the themes of love and the American dream as well as the lively setting and time period. During my first read of the book, I analyzed the texts from a literary standpoint. Now, I hope to perform the same analysis from a digital humanities perspective using data science. I would like to explore the themes of the novel by analyzing word frequencies and sentiment. I also plan to look into the role certain characters play in portraying themes of the Roaring Twenties. "
   ]
  },
  {
   "cell_type": "code",
   "execution_count": 1,
   "id": "723656fe",
   "metadata": {},
   "outputs": [
    {
     "name": "stderr",
     "output_type": "stream",
     "text": [
      "[nltk_data] Downloading package punkt to /home/jovyan/nltk_data...\n",
      "[nltk_data]   Package punkt is already up-to-date!\n",
      "[nltk_data] Downloading package stopwords to /home/jovyan/nltk_data...\n",
      "[nltk_data]   Package stopwords is already up-to-date!\n",
      "[nltk_data] Downloading package vader_lexicon to\n",
      "[nltk_data]     /home/jovyan/nltk_data...\n",
      "[nltk_data]   Package vader_lexicon is already up-to-date!\n",
      "[nltk_data] Downloading package opinion_lexicon to\n",
      "[nltk_data]     /home/jovyan/nltk_data...\n",
      "[nltk_data]   Package opinion_lexicon is already up-to-date!\n"
     ]
    },
    {
     "data": {
      "text/plain": [
       "True"
      ]
     },
     "execution_count": 1,
     "metadata": {},
     "output_type": "execute_result"
    }
   ],
   "source": [
    "import requests\n",
    "import matplotlib.pyplot as plt\n",
    "import nltk\n",
    "\n",
    "from nltk.tokenize import word_tokenize\n",
    "from nltk.sentiment import vader\n",
    "from nltk.corpus import stopwords\n",
    "from nltk.corpus import opinion_lexicon\n",
    "from nltk.stem.porter import PorterStemmer\n",
    "\n",
    "nltk.download('punkt')\n",
    "nltk.download('stopwords')\n",
    "nltk.download('vader_lexicon')\n",
    "nltk.download('opinion_lexicon')"
   ]
  },
  {
   "cell_type": "code",
   "execution_count": 2,
   "id": "33dd68d7",
   "metadata": {},
   "outputs": [],
   "source": [
    "target_url = \"https://www.gutenberg.org/cache/epub/64317/pg64317.txt\"\n",
    "response = requests.get(target_url)\n",
    "gatsby_string = response.text\n",
    "gatsby_string = gatsby_string.split('*** START OF THE PROJECT GUTENBERG EBOOK THE GREAT GATSBY ***')[1]\n",
    "gatsby_string = gatsby_string.split('*** END OF THE PROJECT GUTENBERG EBOOK THE GREAT GATSBY ***')[0]\n",
    "gatsby_string = gatsby_string.lower()\n"
   ]
  },
  {
   "cell_type": "code",
   "execution_count": 4,
   "id": "fe76b83c",
   "metadata": {},
   "outputs": [],
   "source": [
    "stopwords_list = stopwords.words('english')\n",
    "# print(stopwords_list)\n",
    "sia = vader.SentimentIntensityAnalyzer()"
   ]
  },
  {
   "cell_type": "code",
   "execution_count": 5,
   "id": "59bd51f8",
   "metadata": {},
   "outputs": [],
   "source": [
    "gatsby_word_list = [w for w in word_tokenize(gatsby_string.lower())]"
   ]
  },
  {
   "cell_type": "code",
   "execution_count": 6,
   "id": "515c5da5",
   "metadata": {},
   "outputs": [
    {
     "name": "stdout",
     "output_type": "stream",
     "text": [
      "['great', 'lover', 'lover', 'like', 'advantages', 'great', 'curious', 'matter', 'hope', 'tolerance']\n",
      "['cry', 'vulnerable', 'criticizing', 'victim', 'bores', 'accused', 'hostile', 'missing', 'forget', 'snobbishly']\n"
     ]
    }
   ],
   "source": [
    "reviewPolarity = 0.0\n",
    "pos_list = []\n",
    "neg_list = []\n",
    "for word in gatsby_word_list:\n",
    "  val = sia.polarity_scores(word)['compound']\n",
    "  if val > 0:\n",
    "    pos_list.append(word)\n",
    "  elif val < 0:\n",
    "    neg_list.append(word)\n",
    "print(pos_list[0:10])\n",
    "print(neg_list[0:10])"
   ]
  },
  {
   "cell_type": "code",
   "execution_count": 7,
   "id": "95b7d517",
   "metadata": {},
   "outputs": [
    {
     "name": "stdout",
     "output_type": "stream",
     "text": [
      "[('like', 119), ('hand', 63), ('want', 59), ('well', 53), ('good', 30), ('great', 26), ('love', 24), ('god', 20), ('matter', 19), ('loved', 19), ('friend', 18), ('party', 18), ('won', 17), ('better', 17), ('bright', 16)]\n",
      "[('no', 97), ('miss', 38), ('cried', 31), ('alone', 25), ('demanded', 24), ('broke', 23), ('stopped', 19), ('hard', 17), ('shook', 17), ('crazy', 14), ('stop', 13), ('bad', 11), ('leave', 11), ('lost', 11), ('killed', 11)]\n"
     ]
    }
   ],
   "source": [
    "top15_pos = nltk.FreqDist(pos_list).most_common(15)\n",
    "top15_neg = nltk.FreqDist(neg_list).most_common(15)\n",
    "\n",
    "print(top15_pos)\n",
    "print(top15_neg)"
   ]
  },
  {
   "cell_type": "code",
   "execution_count": 8,
   "id": "c7a46a24",
   "metadata": {},
   "outputs": [
    {
     "name": "stdout",
     "output_type": "stream",
     "text": [
      "[('like', 119), ('hand', 63), ('want', 59), ('well', 53), ('good', 30), ('great', 26), ('love', 24), ('god', 20), ('matter', 19), ('loved', 19), ('friend', 18), ('party', 18), ('better', 17), ('bright', 16), ('yes', 16)]\n",
      "[('miss', 38), ('cried', 31), ('alone', 25), ('demanded', 24), ('broke', 23), ('stopped', 19), ('hard', 17), ('shook', 17), ('crazy', 14), ('stop', 13), ('bad', 11), ('leave', 11), ('lost', 11), ('killed', 11), ('dead', 11)]\n"
     ]
    }
   ],
   "source": [
    "no_stopwords = [w for w in word_tokenize(gatsby_string.lower()) if w not in stopwords_list]\n",
    "\n",
    "reviewPolarity = 0.0\n",
    "pos_list = []\n",
    "neg_list = []\n",
    "for word in no_stopwords:\n",
    "  val = sia.polarity_scores(word)['compound']\n",
    "  if val > 0:\n",
    "    pos_list.append(word)\n",
    "  elif val < 0:\n",
    "    neg_list.append(word)\n",
    "top15_pos = nltk.FreqDist(pos_list).most_common(15)\n",
    "top15_neg = nltk.FreqDist(neg_list).most_common(15)\n",
    "\n",
    "print(top15_pos)\n",
    "print(top15_neg)"
   ]
  },
  {
   "cell_type": "code",
   "execution_count": 9,
   "id": "5f1cd0f9",
   "metadata": {},
   "outputs": [
    {
     "name": "stdout",
     "output_type": "stream",
     "text": [
      "[('like', 128), ('hand', 103), ('want', 97), ('love', 56), ('well', 53), ('good', 30), ('great', 26), ('laugh', 25), ('matter', 24), ('play', 24), ('friend', 24), ('reach', 23), ('smile', 22), ('care', 21), ('god', 20)]\n",
      "[('miss', 42), ('stop', 35), ('demand', 28), ('broke', 23), ('hard', 17), ('shook', 17), ('drop', 14), ('kill', 12), ('bad', 11), ('lost', 11), ('dead', 11), ('forget', 10), ('low', 10), ('violent', 10), ('interrupt', 10)]\n"
     ]
    }
   ],
   "source": [
    "stemmer = PorterStemmer()\n",
    "unstemmed = [w for w in word_tokenize(gatsby_string.lower()) if w not in stopwords_list]\n",
    "stemmed = []\n",
    "for word in unstemmed:\n",
    "  stemmed.append(stemmer.stem(word))\n",
    "\n",
    "reviewPolarity = 0.0\n",
    "pos_list = []\n",
    "neg_list = []\n",
    "for word in stemmed:\n",
    "  val = sia.polarity_scores(word)['compound']\n",
    "  if val > 0:\n",
    "    pos_list.append(word)\n",
    "  elif val < 0:\n",
    "    neg_list.append(word)\n",
    "top15_pos = nltk.FreqDist(pos_list).most_common(15)\n",
    "top15_neg = nltk.FreqDist(neg_list).most_common(15)\n",
    "\n",
    "print(top15_pos)\n",
    "print(top15_neg)"
   ]
  },
  {
   "cell_type": "code",
   "execution_count": 17,
   "id": "71e609a0",
   "metadata": {},
   "outputs": [
    {
     "name": "stdout",
     "output_type": "stream",
     "text": [
      "531\n",
      "34325\n",
      "58543\n",
      "91906\n",
      "123277\n",
      "147460\n",
      "170873\n",
      "221476\n",
      "247570\n"
     ]
    }
   ],
   "source": [
    "first_ch_string = 'In my younger and more vulnerable years'\n",
    "second_ch_string ='About halfway between West Egg and New York the motor road hastily'\n",
    "third_ch_string ='There was music from my neighbour’s house through the summer nights.'\n",
    "fourth_ch_string = 'On Sunday morning while church bells'\n",
    "fifth_ch_string = 'When I came home to West Egg that night'\n",
    "sixth_ch_string = 'About this time an ambitious young reporter from New York'\n",
    "seventh_ch_string ='It was when curiosity about Gatsby was at its highest'\n",
    "eighth_ch_string = 'I couldn’t sleep all night; a foghorn'\n",
    "ninth_ch_string = 'After two years I remember the rest of that day'\n",
    "\n",
    "first_ch_index = gatsby_string.find(first_ch_string.lower())\n",
    "second_ch_index = gatsby_string.find(second_ch_string.lower())\n",
    "third_ch_index = gatsby_string.find(third_ch_string.lower())\n",
    "fourth_ch_index = gatsby_string.find(fourth_ch_string.lower())\n",
    "fifth_ch_index = gatsby_string.find(fifth_ch_string.lower())\n",
    "sixth_ch_index = gatsby_string.find(sixth_ch_string.lower())\n",
    "seventh_ch_index = gatsby_string.find(seventh_ch_string.lower())\n",
    "eighth_ch_index = gatsby_string.find(eighth_ch_string.lower())\n",
    "ninth_ch_index = gatsby_string.find(ninth_ch_string.lower())\n",
    "print(first_ch_index)\n",
    "print(second_ch_index)\n",
    "print(third_ch_index)\n",
    "print(fourth_ch_index)\n",
    "print(fifth_ch_index)\n",
    "print(sixth_ch_index)\n",
    "print(seventh_ch_index)\n",
    "print(eighth_ch_index)\n",
    "print(ninth_ch_index)\n"
   ]
  },
  {
   "cell_type": "code",
   "execution_count": 18,
   "id": "6706491e",
   "metadata": {},
   "outputs": [
    {
     "data": {
      "text/plain": [
       "<BarContainer object of 9 artists>"
      ]
     },
     "execution_count": 18,
     "metadata": {},
     "output_type": "execute_result"
    },
    {
     "data": {
      "image/png": "[encoded data removed]",
      "text/plain": [
       "<Figure size 640x480 with 1 Axes>"
      ]
     },
     "metadata": {},
     "output_type": "display_data"
    }
   ],
   "source": [
    "score_arr = []\n",
    "\n",
    "gatsby_sections = []\n",
    "gatsby_sections.append(gatsby_string[first_ch_index:second_ch_index])\n",
    "gatsby_sections.append(gatsby_string[second_ch_index:third_ch_index])\n",
    "gatsby_sections.append(gatsby_string[third_ch_index:fourth_ch_index])\n",
    "gatsby_sections.append(gatsby_string[fourth_ch_index:fifth_ch_index])\n",
    "gatsby_sections.append(gatsby_string[fifth_ch_index:sixth_ch_index])\n",
    "gatsby_sections.append(gatsby_string[sixth_ch_index:seventh_ch_index])\n",
    "gatsby_sections.append(gatsby_string[seventh_ch_index:eighth_ch_index])\n",
    "gatsby_sections.append(gatsby_string[eighth_ch_index:ninth_ch_index])\n",
    "gatsby_sections.append(gatsby_string[ninth_ch_index:])\n",
    "for section in gatsby_sections:\n",
    "  section_list = [w for w in word_tokenize(section.lower()) if w not in stopwords_list]\n",
    "  score = 0\n",
    "  for word in section_list:\n",
    "    val = sia.polarity_scores(word)['compound']\n",
    "    score += val\n",
    "  score_arr.append(score)\n",
    "\n",
    "x_coordinate = [ 1+i for i in range(len(score_arr)) ]\n",
    "plt.title('Sentiment of the Sections of Gatsby')\n",
    "plt.bar(x_coordinate, score_arr)\n"
   ]
  },
  {
   "cell_type": "code",
   "execution_count": 19,
   "id": "8423c1bc",
   "metadata": {},
   "outputs": [],
   "source": [
    "positive_words = set(opinion_lexicon.positive())\n",
    "negative_words = set(opinion_lexicon.negative())"
   ]
  },
  {
   "cell_type": "code",
   "execution_count": 21,
   "id": "c2621878",
   "metadata": {},
   "outputs": [
    {
     "data": {
      "text/plain": [
       "<BarContainer object of 9 artists>"
      ]
     },
     "execution_count": 21,
     "metadata": {},
     "output_type": "execute_result"
    },
    {
     "data": {
      "image/png": "[encoded data removed]",
      "text/plain": [
       "<Figure size 640x480 with 1 Axes>"
      ]
     },
     "metadata": {},
     "output_type": "display_data"
    }
   ],
   "source": [
    "score_arr = []\n",
    "for section in gatsby_sections:\n",
    "  section_list = [w for w in word_tokenize(section.lower()) if w not in stopwords_list]\n",
    "  score = 0\n",
    "  for word in section_list:\n",
    "    if word in positive_words:\n",
    "      score += 1\n",
    "    elif word in negative_words:\n",
    "      score -= 1\n",
    "  score_arr.append(score)\n",
    "\n",
    "x_coordinate = [ 1+i for i in range(len(score_arr)) ]\n",
    "plt.title('Alternate Plot of Section Sentiment') \n",
    "plt.bar(x_coordinate, score_arr)"
   ]
  },
  {
   "cell_type": "code",
   "execution_count": 23,
   "id": "ec522970",
   "metadata": {},
   "outputs": [],
   "source": [
    "import pandas as pd\n",
    "x = [w for w in word_tokenize(gatsby_string.lower()) if w not in stopwords_list]\n",
    "df = pd.DataFrame({'words': nltk.FreqDist(x).keys(),\n",
    "                   'frequencies': nltk.FreqDist(x).values()})    "
   ]
  },
  {
   "cell_type": "code",
   "execution_count": 24,
   "id": "7aee7013",
   "metadata": {},
   "outputs": [
    {
     "data": {
      "text/html": [
       "<div>\n",
       "<style scoped>\n",
       "    .dataframe tbody tr th:only-of-type {\n",
       "        vertical-align: middle;\n",
       "    }\n",
       "\n",
       "    .dataframe tbody tr th {\n",
       "        vertical-align: top;\n",
       "    }\n",
       "\n",
       "    .dataframe thead th {\n",
       "        text-align: right;\n",
       "    }\n",
       "</style>\n",
       "<table border=\"1\" class=\"dataframe\">\n",
       "  <thead>\n",
       "    <tr style=\"text-align: right;\">\n",
       "      <th></th>\n",
       "      <th>words</th>\n",
       "      <th>frequencies</th>\n",
       "    </tr>\n",
       "  </thead>\n",
       "  <tbody>\n",
       "    <tr>\n",
       "      <th>0</th>\n",
       "      <td>great</td>\n",
       "      <td>26</td>\n",
       "    </tr>\n",
       "    <tr>\n",
       "      <th>1</th>\n",
       "      <td>gatsby</td>\n",
       "      <td>251</td>\n",
       "    </tr>\n",
       "    <tr>\n",
       "      <th>2</th>\n",
       "      <td>f.</td>\n",
       "      <td>1</td>\n",
       "    </tr>\n",
       "    <tr>\n",
       "      <th>3</th>\n",
       "      <td>scott</td>\n",
       "      <td>1</td>\n",
       "    </tr>\n",
       "    <tr>\n",
       "      <th>4</th>\n",
       "      <td>fitzgerald</td>\n",
       "      <td>1</td>\n",
       "    </tr>\n",
       "  </tbody>\n",
       "</table>\n",
       "</div>"
      ],
      "text/plain": [
       "        words  frequencies\n",
       "0       great           26\n",
       "1      gatsby          251\n",
       "2          f.            1\n",
       "3       scott            1\n",
       "4  fitzgerald            1"
      ]
     },
     "execution_count": 24,
     "metadata": {},
     "output_type": "execute_result"
    }
   ],
   "source": [
    "df.head()"
   ]
  },
  {
   "cell_type": "code",
   "execution_count": 30,
   "id": "ff83a87a",
   "metadata": {},
   "outputs": [
    {
     "data": {
      "text/html": [
       "<div>\n",
       "<style scoped>\n",
       "    .dataframe tbody tr th:only-of-type {\n",
       "        vertical-align: middle;\n",
       "    }\n",
       "\n",
       "    .dataframe tbody tr th {\n",
       "        vertical-align: top;\n",
       "    }\n",
       "\n",
       "    .dataframe thead th {\n",
       "        text-align: right;\n",
       "    }\n",
       "</style>\n",
       "<table border=\"1\" class=\"dataframe\">\n",
       "  <thead>\n",
       "    <tr style=\"text-align: right;\">\n",
       "      <th></th>\n",
       "      <th>words</th>\n",
       "      <th>frequencies</th>\n",
       "    </tr>\n",
       "  </thead>\n",
       "  <tbody>\n",
       "    <tr>\n",
       "      <th>1</th>\n",
       "      <td>gatsby</td>\n",
       "      <td>251</td>\n",
       "    </tr>\n",
       "    <tr>\n",
       "      <th>590</th>\n",
       "      <td>tom</td>\n",
       "      <td>188</td>\n",
       "    </tr>\n",
       "    <tr>\n",
       "      <th>592</th>\n",
       "      <td>daisy</td>\n",
       "      <td>183</td>\n",
       "    </tr>\n",
       "    <tr>\n",
       "      <th>974</th>\n",
       "      <td>nick</td>\n",
       "      <td>24</td>\n",
       "    </tr>\n",
       "    <tr>\n",
       "      <th>1954</th>\n",
       "      <td>myrtle</td>\n",
       "      <td>23</td>\n",
       "    </tr>\n",
       "  </tbody>\n",
       "</table>\n",
       "</div>"
      ],
      "text/plain": [
       "       words  frequencies\n",
       "1     gatsby          251\n",
       "590      tom          188\n",
       "592    daisy          183\n",
       "974     nick           24\n",
       "1954  myrtle           23"
      ]
     },
     "execution_count": 30,
     "metadata": {},
     "output_type": "execute_result"
    }
   ],
   "source": [
    "names = ['gatsby', 'nick', 'daisy', 'tom', 'myrtle']\n",
    "# df[df[\"words\"] in names]\n",
    "names_df = df.loc[df['words'].isin(names)]\n",
    "names_df.head()"
   ]
  },
  {
   "cell_type": "code",
   "execution_count": 34,
   "id": "b0c0f69d",
   "metadata": {},
   "outputs": [
    {
     "data": {
      "text/plain": [
       "<AxesSubplot: title={'center': 'Frequencies of Character Names'}, xlabel='words'>"
      ]
     },
     "execution_count": 34,
     "metadata": {},
     "output_type": "execute_result"
    },
    {
     "data": {
      "image/png": "[encoded data removed]",
      "text/plain": [
       "<Figure size 640x480 with 1 Axes>"
      ]
     },
     "metadata": {},
     "output_type": "display_data"
    }
   ],
   "source": [
    "\n",
    "names_df.plot.bar(x='words', y='frequencies', rot=0, title='Frequencies of Character Names')"
   ]
  },
  {
   "cell_type": "code",
   "execution_count": 43,
   "id": "fa14f986",
   "metadata": {},
   "outputs": [
    {
     "data": {
      "text/html": [
       "<div>\n",
       "<style scoped>\n",
       "    .dataframe tbody tr th:only-of-type {\n",
       "        vertical-align: middle;\n",
       "    }\n",
       "\n",
       "    .dataframe tbody tr th {\n",
       "        vertical-align: top;\n",
       "    }\n",
       "\n",
       "    .dataframe thead th {\n",
       "        text-align: right;\n",
       "    }\n",
       "</style>\n",
       "<table border=\"1\" class=\"dataframe\">\n",
       "  <thead>\n",
       "    <tr style=\"text-align: right;\">\n",
       "      <th></th>\n",
       "      <th>words</th>\n",
       "      <th>frequencies</th>\n",
       "    </tr>\n",
       "  </thead>\n",
       "  <tbody>\n",
       "    <tr>\n",
       "      <th>0</th>\n",
       "      <td>great</td>\n",
       "      <td>26</td>\n",
       "    </tr>\n",
       "    <tr>\n",
       "      <th>50</th>\n",
       "      <td>like</td>\n",
       "      <td>119</td>\n",
       "    </tr>\n",
       "    <tr>\n",
       "      <th>126</th>\n",
       "      <td>matter</td>\n",
       "      <td>19</td>\n",
       "    </tr>\n",
       "    <tr>\n",
       "      <th>769</th>\n",
       "      <td>hand</td>\n",
       "      <td>63</td>\n",
       "    </tr>\n",
       "    <tr>\n",
       "      <th>880</th>\n",
       "      <td>laugh</td>\n",
       "      <td>9</td>\n",
       "    </tr>\n",
       "  </tbody>\n",
       "</table>\n",
       "</div>"
      ],
      "text/plain": [
       "      words  frequencies\n",
       "0     great           26\n",
       "50     like          119\n",
       "126  matter           19\n",
       "769    hand           63\n",
       "880   laugh            9"
      ]
     },
     "execution_count": 43,
     "metadata": {},
     "output_type": "execute_result"
    }
   ],
   "source": [
    "top10_pos_words = []\n",
    "top10_neg_words = []\n",
    "for i in range(10):\n",
    "    top10_pos_words.append(top15_pos[i][0])\n",
    "    top10_neg_words.append(top15_neg[i][0])\n",
    "    \n",
    "pos_df = df.loc[df['words'].isin(top10_pos_words)]\n",
    "pos_df.head()\n"
   ]
  },
  {
   "cell_type": "code",
   "execution_count": 44,
   "id": "aa23e95a",
   "metadata": {},
   "outputs": [
    {
     "data": {
      "text/html": [
       "<div>\n",
       "<style scoped>\n",
       "    .dataframe tbody tr th:only-of-type {\n",
       "        vertical-align: middle;\n",
       "    }\n",
       "\n",
       "    .dataframe tbody tr th {\n",
       "        vertical-align: top;\n",
       "    }\n",
       "\n",
       "    .dataframe thead th {\n",
       "        text-align: right;\n",
       "    }\n",
       "</style>\n",
       "<table border=\"1\" class=\"dataframe\">\n",
       "  <thead>\n",
       "    <tr style=\"text-align: right;\">\n",
       "      <th></th>\n",
       "      <th>words</th>\n",
       "      <th>frequencies</th>\n",
       "    </tr>\n",
       "  </thead>\n",
       "  <tbody>\n",
       "    <tr>\n",
       "      <th>152</th>\n",
       "      <td>hard</td>\n",
       "      <td>17</td>\n",
       "    </tr>\n",
       "    <tr>\n",
       "      <th>899</th>\n",
       "      <td>miss</td>\n",
       "      <td>38</td>\n",
       "    </tr>\n",
       "    <tr>\n",
       "      <th>1020</th>\n",
       "      <td>drop</td>\n",
       "      <td>4</td>\n",
       "    </tr>\n",
       "    <tr>\n",
       "      <th>1149</th>\n",
       "      <td>broke</td>\n",
       "      <td>23</td>\n",
       "    </tr>\n",
       "    <tr>\n",
       "      <th>1225</th>\n",
       "      <td>bad</td>\n",
       "      <td>11</td>\n",
       "    </tr>\n",
       "  </tbody>\n",
       "</table>\n",
       "</div>"
      ],
      "text/plain": [
       "      words  frequencies\n",
       "152    hard           17\n",
       "899    miss           38\n",
       "1020   drop            4\n",
       "1149  broke           23\n",
       "1225    bad           11"
      ]
     },
     "execution_count": 44,
     "metadata": {},
     "output_type": "execute_result"
    }
   ],
   "source": [
    "neg_df = df.loc[df['words'].isin(top10_neg_words)]\n",
    "neg_df.head()"
   ]
  },
  {
   "cell_type": "code",
   "execution_count": 45,
   "id": "992a6d15",
   "metadata": {},
   "outputs": [
    {
     "data": {
      "text/plain": [
       "<AxesSubplot: title={'center': 'Frequencies of Top 10 Positive Words'}, xlabel='words'>"
      ]
     },
     "execution_count": 45,
     "metadata": {},
     "output_type": "execute_result"
    },
    {
     "data": {
      "image/png": "[encoded data removed]",
      "text/plain": [
       "<Figure size 640x480 with 1 Axes>"
      ]
     },
     "metadata": {},
     "output_type": "display_data"
    }
   ],
   "source": [
    "pos_df.plot.bar(x='words', y='frequencies', rot=0, title='Frequencies of Top 10 Positive Words')"
   ]
  },
  {
   "cell_type": "code",
   "execution_count": 46,
   "id": "6fcec1a9",
   "metadata": {},
   "outputs": [
    {
     "data": {
      "text/plain": [
       "<AxesSubplot: title={'center': 'Frequencies of Top 10 Negative Words'}, xlabel='words'>"
      ]
     },
     "execution_count": 46,
     "metadata": {},
     "output_type": "execute_result"
    },
    {
     "data": {
      "image/png": "[encoded data removed]",
      "text/plain": [
       "<Figure size 640x480 with 1 Axes>"
      ]
     },
     "metadata": {},
     "output_type": "display_data"
    }
   ],
   "source": [
    "neg_df.plot.bar(x='words', y='frequencies', rot=0, title='Frequencies of Top 10 Negative Words')"
   ]
  },
  {
   "cell_type": "markdown",
   "id": "b45dbea1",
   "metadata": {},
   "source": [
    "# Analysis\n",
    "I plan on analyzing the sentiment in each section of the book more deeply.\n",
    "I also plan on looking at the word frequencies to see if I can learn about the motifs/themes of the novel.\n",
    "I plan to make a few more plots to do with the presence of the positive/negative words in each section, the amount of times a character's name is mentioned in each section, the sentiment of the opening sentence of each section, and the top words of the novel. "
   ]
  }
 ],
 "metadata": {
  "kernelspec": {
   "display_name": "Python 3 (ipykernel)",
   "language": "python",
   "name": "python3"
  },
  "language_info": {
   "codemirror_mode": {
    "name": "ipython",
    "version": 3
   },
   "file_extension": ".py",
   "mimetype": "text/x-python",
   "name": "python",
   "nbconvert_exporter": "python",
   "pygments_lexer": "ipython3",
   "version": "3.10.8"
  }
 },
 "nbformat": 4,
 "nbformat_minor": 5
}
